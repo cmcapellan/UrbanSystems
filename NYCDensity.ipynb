{
 "cells": [
  {
   "cell_type": "code",
   "execution_count": 8,
   "metadata": {
    "collapsed": false
   },
   "outputs": [],
   "source": [
    "import pandas as pd\n",
    "import numpy as np\n",
    "from jenks import jenks\n",
    "import matplotlib.pyplot as plt\n",
    "%matplotlib inline\n",
    "plt.style.use('ggplot')"
   ]
  },
  {
   "cell_type": "code",
   "execution_count": 3,
   "metadata": {
    "collapsed": false
   },
   "outputs": [],
   "source": [
    "urlstring = 'https://capellan.cartodb.com/api/v2/sql?format=CSV&q=SELECT%20*%20FROM%20nyct2010_density'\n",
    "carto_table = pd.read_csv(urlstring)"
   ]
  },
  {
   "cell_type": "code",
   "execution_count": 4,
   "metadata": {
    "collapsed": false
   },
   "outputs": [
    {
     "data": {
      "text/html": [
       "<div>\n",
       "<table border=\"1\" class=\"dataframe\">\n",
       "  <thead>\n",
       "    <tr style=\"text-align: right;\">\n",
       "      <th></th>\n",
       "      <th>cartodb_id</th>\n",
       "      <th>shape_sqft</th>\n",
       "      <th>ct_density</th>\n",
       "      <th>the_geom_long</th>\n",
       "      <th>the_geom_lat</th>\n",
       "      <th>ctlabel</th>\n",
       "      <th>borocode</th>\n",
       "      <th>ct2010</th>\n",
       "      <th>boroct2010</th>\n",
       "      <th>puma</th>\n",
       "      <th>shape_leng</th>\n",
       "      <th>shape_area</th>\n",
       "      <th>ct2010_full</th>\n",
       "      <th>floorarea_sqft</th>\n",
       "    </tr>\n",
       "  </thead>\n",
       "  <tbody>\n",
       "    <tr>\n",
       "      <th>count</th>\n",
       "      <td>2161.000000</td>\n",
       "      <td>2.161000e+03</td>\n",
       "      <td>2161.000000</td>\n",
       "      <td>2161.000000</td>\n",
       "      <td>2161.000000</td>\n",
       "      <td>2161.000000</td>\n",
       "      <td>2161.000000</td>\n",
       "      <td>2161.000000</td>\n",
       "      <td>2161.000000</td>\n",
       "      <td>2161.000000</td>\n",
       "      <td>2161.000000</td>\n",
       "      <td>2.161000e+03</td>\n",
       "      <td>2161.000000</td>\n",
       "      <td>2161.000000</td>\n",
       "    </tr>\n",
       "    <tr>\n",
       "      <th>mean</th>\n",
       "      <td>1082.454882</td>\n",
       "      <td>3.880883e+06</td>\n",
       "      <td>1.085838</td>\n",
       "      <td>-73.915558</td>\n",
       "      <td>40.716199</td>\n",
       "      <td>413.252193</td>\n",
       "      <td>2.986118</td>\n",
       "      <td>41325.219343</td>\n",
       "      <td>3027442.757520</td>\n",
       "      <td>3959.633966</td>\n",
       "      <td>8715.103778</td>\n",
       "      <td>3.880865e+06</td>\n",
       "      <td>3027442.757520</td>\n",
       "      <td>2484006.304951</td>\n",
       "    </tr>\n",
       "    <tr>\n",
       "      <th>std</th>\n",
       "      <td>625.649841</td>\n",
       "      <td>7.951001e+06</td>\n",
       "      <td>1.162735</td>\n",
       "      <td>0.086771</td>\n",
       "      <td>0.083951</td>\n",
       "      <td>342.555696</td>\n",
       "      <td>1.095357</td>\n",
       "      <td>34255.569642</td>\n",
       "      <td>1106536.061666</td>\n",
       "      <td>145.122837</td>\n",
       "      <td>8497.298199</td>\n",
       "      <td>7.951004e+06</td>\n",
       "      <td>1106536.061666</td>\n",
       "      <td>2581148.207843</td>\n",
       "    </tr>\n",
       "    <tr>\n",
       "      <th>min</th>\n",
       "      <td>1.000000</td>\n",
       "      <td>4.478133e+05</td>\n",
       "      <td>0.000000</td>\n",
       "      <td>-74.242457</td>\n",
       "      <td>40.502545</td>\n",
       "      <td>1.000000</td>\n",
       "      <td>1.000000</td>\n",
       "      <td>100.000000</td>\n",
       "      <td>1000100.000000</td>\n",
       "      <td>3701.000000</td>\n",
       "      <td>2816.869448</td>\n",
       "      <td>4.478076e+05</td>\n",
       "      <td>1000100.000000</td>\n",
       "      <td>0.000000</td>\n",
       "    </tr>\n",
       "    <tr>\n",
       "      <th>25%</th>\n",
       "      <td>541.000000</td>\n",
       "      <td>1.683691e+06</td>\n",
       "      <td>0.459380</td>\n",
       "      <td>-73.966621</td>\n",
       "      <td>40.650196</td>\n",
       "      <td>155.000000</td>\n",
       "      <td>2.000000</td>\n",
       "      <td>15500.000000</td>\n",
       "      <td>2036300.000000</td>\n",
       "      <td>3808.000000</td>\n",
       "      <td>5622.863620</td>\n",
       "      <td>1.683689e+06</td>\n",
       "      <td>2036300.000000</td>\n",
       "      <td>1213325.000000</td>\n",
       "    </tr>\n",
       "    <tr>\n",
       "      <th>50%</th>\n",
       "      <td>1081.000000</td>\n",
       "      <td>1.988435e+06</td>\n",
       "      <td>0.776885</td>\n",
       "      <td>-73.918752</td>\n",
       "      <td>40.706579</td>\n",
       "      <td>302.000000</td>\n",
       "      <td>3.000000</td>\n",
       "      <td>30200.000000</td>\n",
       "      <td>3052900.000000</td>\n",
       "      <td>4009.000000</td>\n",
       "      <td>6504.836748</td>\n",
       "      <td>1.988440e+06</td>\n",
       "      <td>3052900.000000</td>\n",
       "      <td>1825884.000000</td>\n",
       "    </tr>\n",
       "    <tr>\n",
       "      <th>75%</th>\n",
       "      <td>1624.000000</td>\n",
       "      <td>3.174507e+06</td>\n",
       "      <td>1.235349</td>\n",
       "      <td>-73.860853</td>\n",
       "      <td>40.768971</td>\n",
       "      <td>581.000000</td>\n",
       "      <td>4.000000</td>\n",
       "      <td>58100.000000</td>\n",
       "      <td>4033700.000000</td>\n",
       "      <td>4103.000000</td>\n",
       "      <td>8734.805710</td>\n",
       "      <td>3.174475e+06</td>\n",
       "      <td>4033700.000000</td>\n",
       "      <td>2697666.000000</td>\n",
       "    </tr>\n",
       "    <tr>\n",
       "      <th>max</th>\n",
       "      <td>2166.000000</td>\n",
       "      <td>1.962343e+08</td>\n",
       "      <td>11.133145</td>\n",
       "      <td>-73.704582</td>\n",
       "      <td>40.912950</td>\n",
       "      <td>1621.000000</td>\n",
       "      <td>5.000000</td>\n",
       "      <td>162100.000000</td>\n",
       "      <td>5032300.000000</td>\n",
       "      <td>4114.000000</td>\n",
       "      <td>186126.741777</td>\n",
       "      <td>1.962341e+08</td>\n",
       "      <td>5032300.000000</td>\n",
       "      <td>29573098.000000</td>\n",
       "    </tr>\n",
       "  </tbody>\n",
       "</table>\n",
       "</div>"
      ],
      "text/plain": [
       "        cartodb_id    shape_sqft   ct_density  the_geom_long  the_geom_lat  \\\n",
       "count  2161.000000  2.161000e+03  2161.000000    2161.000000   2161.000000   \n",
       "mean   1082.454882  3.880883e+06     1.085838     -73.915558     40.716199   \n",
       "std     625.649841  7.951001e+06     1.162735       0.086771      0.083951   \n",
       "min       1.000000  4.478133e+05     0.000000     -74.242457     40.502545   \n",
       "25%     541.000000  1.683691e+06     0.459380     -73.966621     40.650196   \n",
       "50%    1081.000000  1.988435e+06     0.776885     -73.918752     40.706579   \n",
       "75%    1624.000000  3.174507e+06     1.235349     -73.860853     40.768971   \n",
       "max    2166.000000  1.962343e+08    11.133145     -73.704582     40.912950   \n",
       "\n",
       "           ctlabel     borocode         ct2010      boroct2010         puma  \\\n",
       "count  2161.000000  2161.000000    2161.000000     2161.000000  2161.000000   \n",
       "mean    413.252193     2.986118   41325.219343  3027442.757520  3959.633966   \n",
       "std     342.555696     1.095357   34255.569642  1106536.061666   145.122837   \n",
       "min       1.000000     1.000000     100.000000  1000100.000000  3701.000000   \n",
       "25%     155.000000     2.000000   15500.000000  2036300.000000  3808.000000   \n",
       "50%     302.000000     3.000000   30200.000000  3052900.000000  4009.000000   \n",
       "75%     581.000000     4.000000   58100.000000  4033700.000000  4103.000000   \n",
       "max    1621.000000     5.000000  162100.000000  5032300.000000  4114.000000   \n",
       "\n",
       "          shape_leng    shape_area     ct2010_full   floorarea_sqft  \n",
       "count    2161.000000  2.161000e+03     2161.000000      2161.000000  \n",
       "mean     8715.103778  3.880865e+06  3027442.757520   2484006.304951  \n",
       "std      8497.298199  7.951004e+06  1106536.061666   2581148.207843  \n",
       "min      2816.869448  4.478076e+05  1000100.000000         0.000000  \n",
       "25%      5622.863620  1.683689e+06  2036300.000000   1213325.000000  \n",
       "50%      6504.836748  1.988440e+06  3052900.000000   1825884.000000  \n",
       "75%      8734.805710  3.174475e+06  4033700.000000   2697666.000000  \n",
       "max    186126.741777  1.962341e+08  5032300.000000  29573098.000000  "
      ]
     },
     "execution_count": 4,
     "metadata": {},
     "output_type": "execute_result"
    }
   ],
   "source": [
    "carto_table.describe()"
   ]
  },
  {
   "cell_type": "code",
   "execution_count": 5,
   "metadata": {
    "collapsed": false
   },
   "outputs": [
    {
     "data": {
      "text/plain": [
       "<matplotlib.text.Text at 0x7febe91c5f10>"
      ]
     },
     "execution_count": 5,
     "metadata": {},
     "output_type": "execute_result"
    },
    {
     "data": {
      "image/png": "[encoded data removed]",
      "text/plain": [
       "<matplotlib.figure.Figure at 0x7febeb8da250>"
      ]
     },
     "metadata": {},
     "output_type": "display_data"
    }
   ],
   "source": [
    "ax = carto_table.ct_density.hist(bins=200, alpha=0.8)\n",
    "ax.set_xlabel('Building Area / Land Area')\n",
    "ax.set_ylabel('Frequency')\n",
    "ax.set_title('Histogram of Census Tract Density by Square Feet')"
   ]
  },
  {
   "cell_type": "code",
   "execution_count": 6,
   "metadata": {
    "collapsed": false
   },
   "outputs": [],
   "source": [
    "densities = carto_table.ct_density.tolist()\n",
    "bins = jenks(densities, 12)"
   ]
  },
  {
   "cell_type": "code",
   "execution_count": 7,
   "metadata": {
    "collapsed": false
   },
   "outputs": [
    {
     "data": {
      "text/plain": [
       "[0.0,\n",
       " 0.37161499,\n",
       " 0.63762003,\n",
       " 0.91503143,\n",
       " 1.2236135,\n",
       " 1.594895,\n",
       " 2.0463634,\n",
       " 2.7862606,\n",
       " 3.7139275,\n",
       " 4.686481,\n",
       " 5.8479133,\n",
       " 7.9289975,\n",
       " 11.133144]"
      ]
     },
     "execution_count": 7,
     "metadata": {},
     "output_type": "execute_result"
    }
   ],
   "source": [
    "bins"
   ]
  },
  {
   "cell_type": "code",
   "execution_count": 9,
   "metadata": {
    "collapsed": true
   },
   "outputs": [],
   "source": [
    "def goodness_of_variance_fit(array, classes):\n",
    "    # get the break points\n",
    "    classes = jenks(array, classes)\n",
    "\n",
    "    # do the actual classification\n",
    "    classified = np.array([classify(i, classes) for i in array])\n",
    "\n",
    "    # max value of zones\n",
    "    maxz = max(classified)\n",
    "\n",
    "    # nested list of zone indices\n",
    "    zone_indices = [[idx for idx, val in enumerate(classified) if zone + 1 == val] for zone in range(maxz)]\n",
    "\n",
    "    # sum of squared deviations from array mean\n",
    "    sdam = np.sum((array - array.mean()) ** 2)\n",
    "\n",
    "    # sorted polygon stats\n",
    "    array_sort = [np.array([array[index] for index in zone]) for zone in zone_indices]\n",
    "\n",
    "    # sum of squared deviations of class means\n",
    "    sdcm = sum([np.sum((classified - classified.mean()) ** 2) for classified in array_sort])\n",
    "\n",
    "    # goodness of variance fit\n",
    "    gvf = (sdam - sdcm) / sdam\n",
    "\n",
    "    return gvf\n",
    "\n",
    "def classify(value, breaks):\n",
    "    for i in range(1, len(breaks)):\n",
    "        if value < breaks[i]:\n",
    "            return i\n",
    "    return len(breaks) - 1"
   ]
  },
  {
   "cell_type": "code",
   "execution_count": 18,
   "metadata": {
    "collapsed": false
   },
   "outputs": [
    {
     "name": "stdout",
     "output_type": "stream",
     "text": [
      "0.990159681102 15\n"
     ]
    }
   ],
   "source": [
    "gvf = 0.0\n",
    "nclasses = 2\n",
    "while gvf < .99:\n",
    "    gvf = goodness_of_variance_fit(np.asarray(densities), nclasses)\n",
    "    nclasses += 1\n",
    "print gvf, nclasses"
   ]
  },
  {
   "cell_type": "code",
   "execution_count": null,
   "metadata": {
    "collapsed": true
   },
   "outputs": [],
   "source": []
  }
 ],
 "metadata": {
  "kernelspec": {
   "display_name": "Python 2",
   "language": "python",
   "name": "python2"
  },
  "language_info": {
   "codemirror_mode": {
    "name": "ipython",
    "version": 2
   },
   "file_extension": ".py",
   "mimetype": "text/x-python",
   "name": "python",
   "nbconvert_exporter": "python",
   "pygments_lexer": "ipython2",
   "version": "2.7.11"
  }
 },
 "nbformat": 4,
 "nbformat_minor": 0
}
